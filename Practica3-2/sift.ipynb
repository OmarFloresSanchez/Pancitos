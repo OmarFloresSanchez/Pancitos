{
 "cells": [
  {
   "cell_type": "code",
   "execution_count": null,
   "metadata": {},
   "outputs": [],
   "source": [
    "%matplotlib inline\n",
    "import numpy as np\n",
    "import cv2 as cv\n",
    "import numpy as np\n",
    "import matplotlib.pyplot as plt\n",
    "import math"
   ]
  },
  {
   "cell_type": "code",
   "execution_count": null,
   "metadata": {},
   "outputs": [],
   "source": [
    "def mostrarImagenes(imagenes, titulos, filas, columnas, figsize=(20, 8), suptitle=''):\n",
    "    fig, axs = plt.subplots(filas, columnas, figsize=figsize)\n",
    "    fig.suptitle(suptitle)\n",
    "\n",
    "    for i in range(filas):\n",
    "        for j in range(columnas):\n",
    "            idx = i * columnas + j\n",
    "            axs[i, j].imshow(imagenes[idx])\n",
    "            axs[i, j].set_title(titulos[idx])\n",
    "            axs[i, j].axis('off')\n",
    "\n",
    "    plt.show()\n",
    "\n",
    "def histograma(angulos):\n",
    "    plt.hist(angulos, bins=36, range=(0, 360))\n",
    "    plt.title('Histograma de Orientaciones')\n",
    "    plt.xlabel('Ángulo')\n",
    "    plt.ylabel('Frecuencia')\n",
    "    plt.show()\n",
    "\n",
    "def calcularGradientes(imagen):\n",
    "    gradientes = []\n",
    "    angulos = []\n",
    "    xs = []\n",
    "    ys = []\n",
    "    divs = []\n",
    "\n",
    "    arreglo = np.asarray(imagen)\n",
    "\n",
    "    for i in range(arreglo.shape[0]):\n",
    "        for j in range(arreglo.shape[1]):\n",
    "            if(i > 0 and i < arreglo.shape[0]-1 and j > 0 and j < arreglo.shape[1]-1):\n",
    "                x = arreglo[i, j+1, 0] - arreglo[i, j-1, 0]\n",
    "\n",
    "                if x != 0:\n",
    "                    y = arreglo[i-1, j, 0] - arreglo[i+1, j, 0]\n",
    "\n",
    "                    xs.append(x)\n",
    "                    ys.append(y)\n",
    "                    c = y * y + x * x\n",
    "                    g = pow(c, 0.5)\n",
    "                    div = y / x\n",
    "                    divs.append(div)\n",
    "                    a = math.atan(div)\n",
    "\n",
    "                    gradientes.append(g)\n",
    "                    angulos.append(math.degrees(a))\n",
    "\n",
    "    return angulos"
   ]
  }
 ],
 "metadata": {
  "language_info": {
   "name": "python"
  }
 },
 "nbformat": 4,
 "nbformat_minor": 2
}
