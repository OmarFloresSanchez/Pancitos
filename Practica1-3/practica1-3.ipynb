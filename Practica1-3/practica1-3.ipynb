{
 "cells": [
  {
   "cell_type": "code",
   "execution_count": 4,
   "metadata": {},
   "outputs": [
    {
     "data": {
      "image/png": "[encoded data removed]",
      "text/plain": [
       "<Figure size 640x480 with 1 Axes>"
      ]
     },
     "metadata": {},
     "output_type": "display_data"
    }
   ],
   "source": [
    "import numpy as np\n",
    "import matplotlib.pyplot as plt\n",
    "import cv2\n",
    "\n",
    "# Cargar una imagen en escala de grises\n",
    "image = cv2.imread('pentagono.png', 0)\n",
    "\n",
    "# Definir los parámetros de la Transformada de Hough\n",
    "rho_res = 1  # Resolución de rho\n",
    "theta_res = np.pi / 180  # Resolución de theta (en radianes)\n",
    "\n",
    "# Definir los rangos de rho y theta\n",
    "rho_max = int(np.sqrt(image.shape[0]**2 + image.shape[1]**2))  # Longitud máxima de rho\n",
    "theta_range = np.linspace(-np.pi/2, np.pi/2, 180)  # Rango de ángulos de theta\n",
    "\n",
    "# Crear la matriz de acumulación\n",
    "accumulator = np.zeros((rho_max * 2, len(theta_range)), dtype=np.uint64)\n",
    "\n",
    "# Encontrar los píxeles de borde en la imagen\n",
    "edge_pixels = np.argwhere(image > 0)\n",
    "\n",
    "# Calcular la Transformada de Hough\n",
    "for pixel in edge_pixels:\n",
    "    y, x = pixel\n",
    "    for theta_index, theta in enumerate(theta_range):\n",
    "        rho = int(x * np.cos(theta) + y * np.sin(theta))\n",
    "        accumulator[rho, theta_index] += 1\n",
    "\n",
    "# Encontrar las líneas más prominentes\n",
    "threshold = 100  # Umbral de votación\n",
    "lines = np.argwhere(accumulator > threshold)\n",
    "\n",
    "# Dibujar las líneas encontradas en la imagen original\n",
    "output_image = cv2.cvtColor(image, cv2.COLOR_GRAY2BGR)\n",
    "for rho, theta_index in lines:\n",
    "    theta = theta_range[theta_index]\n",
    "    a = np.cos(theta)\n",
    "    b = np.sin(theta)\n",
    "    x0 = int(a * rho)\n",
    "    y0 = int(b * rho)\n",
    "    x1 = int(x0 + 1000 * (-b))\n",
    "    y1 = int(y0 + 1000 * (a))\n",
    "    x2 = int(x0 - 1000 * (-b))\n",
    "    y2 = int(y0 - 1000 * (a))\n",
    "    cv2.line(output_image, (x1, y1), (x2, y2), (0, 0, 255), 2)\n",
    "\n",
    "# Mostrar la imagen resultante\n",
    "plt.imshow(output_image)\n",
    "plt.axis('off')\n",
    "plt.show()\n"
   ]
  },
  {
   "cell_type": "code",
   "execution_count": null,
   "metadata": {},
   "outputs": [],
   "source": []
  }
 ],
 "metadata": {
  "kernelspec": {
   "display_name": "Python 3",
   "language": "python",
   "name": "python3"
  },
  "language_info": {
   "codemirror_mode": {
    "name": "ipython",
    "version": 3
   },
   "file_extension": ".py",
   "mimetype": "text/x-python",
   "name": "python",
   "nbconvert_exporter": "python",
   "pygments_lexer": "ipython3",
   "version": "3.11.1"
  },
  "orig_nbformat": 4
 },
 "nbformat": 4,
 "nbformat_minor": 2
}
