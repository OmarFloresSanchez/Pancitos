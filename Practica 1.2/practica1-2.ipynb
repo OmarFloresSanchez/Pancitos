{
  "metadata": {
    "language_info": {
      "codemirror_mode": {
        "name": "python",
        "version": 3
      },
      "file_extension": ".py",
      "mimetype": "text/x-python",
      "name": "python",
      "nbconvert_exporter": "python",
      "pygments_lexer": "ipython3",
      "version": "3.8"
    },
    "kernelspec": {
      "name": "python",
      "display_name": "Python (Pyodide)",
      "language": "python"
    }
  },
  "nbformat_minor": 4,
  "nbformat": 4,
  "cells": [
    {
      "cell_type": "code",
      "source": "#~~~~~'_'~'_'~/////+*+*+*+*////-------------LIBRERIAS-------------\\\\\\*+*+*+\\\\\\\\\\'_'~'_'~~~~~~\n\n\nimport numpy as np\nimport matplotlib.pyplot as plt\nfrom PIL import Image\nimport cv2\nimport random\n",
      "metadata": {
        "trusted": true
      },
      "execution_count": 5,
      "outputs": [
        {
          "ename": "<class 'ImportError'>",
          "evalue": "dynamic module does not define module export function (PyInit_cv2)",
          "traceback": [
            "\u001b[0;31m---------------------------------------------------------------------------\u001b[0m",
            "\u001b[0;31mImportError\u001b[0m                               Traceback (most recent call last)",
            "Cell \u001b[0;32mIn[5], line 7\u001b[0m\n\u001b[1;32m      5\u001b[0m \u001b[38;5;28;01mimport\u001b[39;00m \u001b[38;5;21;01mmatplotlib\u001b[39;00m\u001b[38;5;21;01m.\u001b[39;00m\u001b[38;5;21;01mpyplot\u001b[39;00m \u001b[38;5;28;01mas\u001b[39;00m \u001b[38;5;21;01mplt\u001b[39;00m\n\u001b[1;32m      6\u001b[0m \u001b[38;5;28;01mfrom\u001b[39;00m \u001b[38;5;21;01mPIL\u001b[39;00m \u001b[38;5;28;01mimport\u001b[39;00m Image\n\u001b[0;32m----> 7\u001b[0m \u001b[38;5;28;01mimport\u001b[39;00m \u001b[38;5;21;01mcv2\u001b[39;00m\n\u001b[1;32m      8\u001b[0m \u001b[38;5;28;01mimport\u001b[39;00m \u001b[38;5;21;01mrandom\u001b[39;00m\n",
            "\u001b[0;31mImportError\u001b[0m: dynamic module does not define module export function (PyInit_cv2)"
          ],
          "output_type": "error"
        }
      ]
    },
    {
      "cell_type": "code",
      "source": "#~~~~~'_'~'_'~/////+*+*+*+*////-------------SE CARGA LA IMAGEN-------------\\\\\\*+*+*+\\\\\\\\\\'_'~'_'~~~~~~\n\n\ndef cargarImagen(nombre):\n     imagen = cv2.imread(nombre,1)\n     imagen = cv2.cvtColor(imagen, cv2.COLOR_BGR2RGB)\n     plt.imshow(imagen)\n     return imagen",
      "metadata": {
        "trusted": true
      },
      "execution_count": 6,
      "outputs": []
    },
    {
      "cell_type": "code",
      "source": "#~~~~~'_'~'_'~/////+*+*+*+*////-------------REDIMENCION-------------\\\\\\*+*+*+\\\\\\\\\\'_'~'_'~~~~~~\n\n\ndef redimension(imagen, alto, ancho):\n     imagen = cv2.resize(imagen, (ancho, alto))\n     return imagen",
      "metadata": {
        "trusted": true
      },
      "execution_count": 7,
      "outputs": []
    },
    {
      "cell_type": "code",
      "source": "#~~~~~'_'~'_'~/////+*+*+*+*////-------------HISTOGRAMA-------------\\\\\\*+*+*+\\\\\\\\\\'_'~'_'~~~~~~\n\n\ndef histograma(imagen):\n      alto, ancho, _ = imagen.shape\n      arr_r = np.asarray(imagen[:, :, 0])\n      arr_g = np.asarray(imagen[:, :, 1])\n      arr_b = np.asarray(imagen[:, :, 2])\n      his_r = np.zeros((256))\n      his_g = np.zeros((256))\n      his_b = np.zeros((256))\n      cont = np.zeros((256))\n\n      for i in range(256):\n          for j in range(alto):\n              for k in range(ancho):\n                  if arr_r[j, k] == i:\n                      his_r[i] += 1\n                  if arr_g[j, k] == i:\n                      his_g[i] += 1\n                  if arr_b[j, k] == i:\n                      his_b[i] += 1\n          cont[i] = i\n\n      plt.plot(cont, his_r, color=\"r\")\n      plt.plot(cont, his_g, color=\"g\")\n      plt.plot(cont, his_b, color=\"b\")\n      plt.show()\n",
      "metadata": {
        "trusted": true
      },
      "execution_count": 8,
      "outputs": []
    },
    {
      "cell_type": "code",
      "source": "#~~~~~'_'~'_'~/////+*+*+*+*////-------------RECORTE DE LA IMAGEN-------------\\\\\\*+*+*+\\\\\\\\\\'_'~'_'~~~~~~\n\n\ndef recortarImagen(img, x1, x2, y1, y2):\n     imagen = img[x1:x2, y1:y2]\n     plt.imshow(imagen)\n     return imagen",
      "metadata": {
        "trusted": true
      },
      "execution_count": 9,
      "outputs": []
    },
    {
      "cell_type": "code",
      "source": "#~~~~~'_'~'_'~/////+*+*+*+*////-------------CONVERSION A GRISES-------------\\\\\\*+*+*+\\\\\\\\\\'_'~'_'~~~~~~\n\n\ndef conversionGrises(recorte):\n     gris = recorte.copy()\n     for x in range(gris.shape[0]):\n         for y in range(gris.shape[1]):\n             r = int(gris[x, y, 0] * 0.21)\n             g = int(gris[x, y, 1] * 0.72)\n             b = int(gris[x, y, 2] * 0.07)\n             gr = r + g + b\n             gris[x, y] = [gr, gr, gr]\n\n     plt.imshow(gris, cmap='gray')\n     plt.show()\n     return gris",
      "metadata": {
        "trusted": true
      },
      "execution_count": 10,
      "outputs": []
    },
    {
      "cell_type": "code",
      "source": "#~~~~~'_'~'_'~/////+*+*+*+*////-------------PRINCIPAL-------------\\\\\\*+*+*+\\\\\\\\\\'_'~'_'~~~~~~\n\n#Se carga la imagen.\nimg = cargarImagen('poke.jpg')\n#Se redimenciona.\nimg = redimension(img, 240, 320)\n#Se hace histograma.\nhistograma(img)\n#Se secorta.\nrecorte = recortarImagen(img, 80, 170, 40, 80)\n#Se convierte a grises.\ngris = conversionGrises(recorte)\n#Se hace histograma en grises.\nhistograma(gris)\n#Se hacen histogramas de 5 filas al azar.\nlista=[random.randint(1,90)for _ in range(5)]\nfor i in range(len(lista)):\n     for j in range(gris.shape[0]):\n          if j==lista[i]:\n               cont=[]\n               valores=[]\n               for k in range(gris.shape[1]):\n                    valores.append(gris[j, k, 0])\n                    cont.append(k)\n               plt.plot(cont, valores, color=\"purple\")\n               plt.show()",
      "metadata": {
        "trusted": true
      },
      "execution_count": 11,
      "outputs": [
        {
          "ename": "<class 'NameError'>",
          "evalue": "name 'cv2' is not defined",
          "traceback": [
            "\u001b[0;31m---------------------------------------------------------------------------\u001b[0m",
            "\u001b[0;31mNameError\u001b[0m                                 Traceback (most recent call last)",
            "Cell \u001b[0;32mIn[11], line 4\u001b[0m\n\u001b[1;32m      1\u001b[0m \u001b[38;5;66;03m#~~~~~'_'~'_'~/////+*+*+*+*////-------------PRINCIPAL-------------\\\\\\*+*+*+\\\\\\\\\\'_'~'_'~~~~~~\u001b[39;00m\n\u001b[1;32m      2\u001b[0m \n\u001b[1;32m      3\u001b[0m \u001b[38;5;66;03m#Se carga la imagen.\u001b[39;00m\n\u001b[0;32m----> 4\u001b[0m img \u001b[38;5;241m=\u001b[39m \u001b[43mcargarImagen\u001b[49m\u001b[43m(\u001b[49m\u001b[38;5;124;43m'\u001b[39;49m\u001b[38;5;124;43mpoke.jpg\u001b[39;49m\u001b[38;5;124;43m'\u001b[39;49m\u001b[43m)\u001b[49m\n\u001b[1;32m      5\u001b[0m \u001b[38;5;66;03m#Se redimenciona.\u001b[39;00m\n\u001b[1;32m      6\u001b[0m img \u001b[38;5;241m=\u001b[39m redimension(img, \u001b[38;5;241m240\u001b[39m, \u001b[38;5;241m320\u001b[39m)\n",
            "Cell \u001b[0;32mIn[6], line 5\u001b[0m, in \u001b[0;36mcargarImagen\u001b[0;34m(nombre)\u001b[0m\n\u001b[1;32m      4\u001b[0m \u001b[38;5;28;01mdef\u001b[39;00m \u001b[38;5;21mcargarImagen\u001b[39m(nombre):\n\u001b[0;32m----> 5\u001b[0m      imagen \u001b[38;5;241m=\u001b[39m \u001b[43mcv2\u001b[49m\u001b[38;5;241m.\u001b[39mimread(nombre,\u001b[38;5;241m1\u001b[39m)\n\u001b[1;32m      6\u001b[0m      imagen \u001b[38;5;241m=\u001b[39m cv2\u001b[38;5;241m.\u001b[39mcvtColor(imagen, cv2\u001b[38;5;241m.\u001b[39mCOLOR_BGR2RGB)\n\u001b[1;32m      7\u001b[0m      plt\u001b[38;5;241m.\u001b[39mimshow(imagen)\n",
            "\u001b[0;31mNameError\u001b[0m: name 'cv2' is not defined"
          ],
          "output_type": "error"
        }
      ]
    },
    {
      "cell_type": "code",
      "source": "",
      "metadata": {
        "trusted": true
      },
      "execution_count": 4,
      "outputs": [
        {
          "ename": "<class 'NameError'>",
          "evalue": "name 'cargarImagen' is not defined",
          "traceback": [
            "\u001b[0;31m---------------------------------------------------------------------------\u001b[0m",
            "\u001b[0;31mNameError\u001b[0m                                 Traceback (most recent call last)",
            "Cell \u001b[0;32mIn[4], line 4\u001b[0m\n\u001b[1;32m      1\u001b[0m \u001b[38;5;66;03m#~~~~~'_'~'_'~/////+*+*+*+*////-------------PRINCIPAL-------------\\\\\\*+*+*+\\\\\\\\\\'_'~'_'~~~~~~\u001b[39;00m\n\u001b[1;32m      2\u001b[0m \n\u001b[1;32m      3\u001b[0m \u001b[38;5;66;03m#Se carga la imagen.\u001b[39;00m\n\u001b[0;32m----> 4\u001b[0m img \u001b[38;5;241m=\u001b[39m \u001b[43mcargarImagen\u001b[49m(\u001b[38;5;124m'\u001b[39m\u001b[38;5;124mpoke.jpg\u001b[39m\u001b[38;5;124m'\u001b[39m)\n\u001b[1;32m      5\u001b[0m \u001b[38;5;66;03m#Se redimenciona.\u001b[39;00m\n\u001b[1;32m      6\u001b[0m img \u001b[38;5;241m=\u001b[39m redimension(img, \u001b[38;5;241m240\u001b[39m, \u001b[38;5;241m320\u001b[39m)\n",
            "\u001b[0;31mNameError\u001b[0m: name 'cargarImagen' is not defined"
          ],
          "output_type": "error"
        }
      ]
    }
  ]
}