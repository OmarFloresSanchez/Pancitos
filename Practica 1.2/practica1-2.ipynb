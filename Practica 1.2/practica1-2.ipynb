{
 "cells": [
  {
   "cell_type": "code",
   "execution_count": 2,
   "metadata": {},
   "outputs": [
    {
     "ename": "ModuleNotFoundError",
     "evalue": "No module named 'numpy'",
     "output_type": "error",
     "traceback": [
      "\u001b[1;31m---------------------------------------------------------------------------\u001b[0m",
      "\u001b[1;31mModuleNotFoundError\u001b[0m                       Traceback (most recent call last)",
      "\u001b[1;32md:\\Descargas 2\\IPN\\5to\\Vision Artificial\\practicas\\Pancitos\\Practica 1.2\\practica1-2.ipynb Cell 1\u001b[0m line \u001b[0;36m1\n\u001b[1;32m----> <a href='vscode-notebook-cell:/d%3A/Descargas%202/IPN/5to/Vision%20Artificial/practicas/Pancitos/Practica%201.2/practica1-2.ipynb#W0sZmlsZQ%3D%3D?line=0'>1</a>\u001b[0m \u001b[39mimport\u001b[39;00m \u001b[39mnumpy\u001b[39;00m \u001b[39mas\u001b[39;00m \u001b[39mnp\u001b[39;00m\n\u001b[0;32m      <a href='vscode-notebook-cell:/d%3A/Descargas%202/IPN/5to/Vision%20Artificial/practicas/Pancitos/Practica%201.2/practica1-2.ipynb#W0sZmlsZQ%3D%3D?line=1'>2</a>\u001b[0m \u001b[39mimport\u001b[39;00m \u001b[39mmatplotlib\u001b[39;00m\u001b[39m.\u001b[39;00m\u001b[39mpyplot\u001b[39;00m \u001b[39mas\u001b[39;00m \u001b[39mplt\u001b[39;00m\n\u001b[0;32m      <a href='vscode-notebook-cell:/d%3A/Descargas%202/IPN/5to/Vision%20Artificial/practicas/Pancitos/Practica%201.2/practica1-2.ipynb#W0sZmlsZQ%3D%3D?line=2'>3</a>\u001b[0m \u001b[39mfrom\u001b[39;00m \u001b[39mPIL\u001b[39;00m \u001b[39mimport\u001b[39;00m Image\n",
      "\u001b[1;31mModuleNotFoundError\u001b[0m: No module named 'numpy'"
     ]
    }
   ],
   "source": [
    "import numpy as np\n",
    "import matplotlib.pyplot as plt\n",
    "from PIL import Image\n",
    "import cv2\n",
    "import random"
   ]
  },
  {
   "cell_type": "code",
   "execution_count": 3,
   "metadata": {},
   "outputs": [],
   "source": [
    "\n",
    "def cargarImagen(nombre):\n",
    "     imagen = cv2.imread(nombre,1)\n",
    "     imagen = cv2.cvtColor(imagen, cv2.COLOR_BGR2RGB)\n",
    "     plt.imshow(imagen)\n",
    "     return imagen"
   ]
  },
  {
   "cell_type": "code",
   "execution_count": 4,
   "metadata": {},
   "outputs": [],
   "source": [
    "# redimensionamiento de la imagen\n",
    "# si se quedaba del tamaño anterior tardaba demasiado en compilar \n",
    "def redimension(imagen, alto, ancho):\n",
    "     imagen = cv2.resize(imagen, (ancho, alto))\n",
    "     return imagen"
   ]
  },
  {
   "cell_type": "code",
   "execution_count": 5,
   "metadata": {},
   "outputs": [],
   "source": [
    "# creacion del histograma\n",
    "def histograma(imagen):\n",
    "      alto, ancho, _ = imagen.shape\n",
    "      arr_r = np.asarray(imagen[:, :, 0])\n",
    "      arr_g = np.asarray(imagen[:, :, 1])\n",
    "      arr_b = np.asarray(imagen[:, :, 2])\n",
    "      his_r = np.zeros((256))\n",
    "      his_g = np.zeros((256))\n",
    "      his_b = np.zeros((256))\n",
    "      cont = np.zeros((256))\n",
    "\n",
    "      for i in range(256):\n",
    "          for j in range(alto):\n",
    "              for k in range(ancho):\n",
    "                  if arr_r[j, k] == i:\n",
    "                      his_r[i] += 1\n",
    "                  if arr_g[j, k] == i:\n",
    "                      his_g[i] += 1\n",
    "                  if arr_b[j, k] == i:\n",
    "                      his_b[i] += 1\n",
    "          cont[i] = i\n",
    "\n",
    "      plt.plot(cont, his_r, color=\"r\")\n",
    "      plt.plot(cont, his_g, color=\"g\")\n",
    "      plt.plot(cont, his_b, color=\"b\")\n",
    "      plt.show()\n",
    "       "
   ]
  },
  {
   "cell_type": "code",
   "execution_count": 6,
   "metadata": {},
   "outputs": [],
   "source": [
    "def recortarImagen(img,x1,x2,y1,y2):\n",
    "     #Recortar una imagen\n",
    "     imagen = img[x1:x2,y1:y2]     # toma los pixeles desde un punto hasta otro, como se le pasa la matriz, \n",
    "                                   # la variable imagen tambien es una matriz\n",
    "     plt.imshow(imagen)\n",
    "     return imagen\n"
   ]
  },
  {
   "cell_type": "code",
   "execution_count": 7,
   "metadata": {},
   "outputs": [],
   "source": [
    "def conversionGrises(recorte):\n",
    "     gris = recorte.copy()  # Hacer una copia de la imagen recortada\n",
    "     for x in range(gris.shape[0]):\n",
    "         for y in range(gris.shape[1]):\n",
    "             r = int(gris[x, y, 0] * 0.21)\n",
    "             g = int(gris[x, y, 1] * 0.72)\n",
    "             b = int(gris[x, y, 2] * 0.07)\n",
    "             gr = r + g + b\n",
    "             gris[x, y] = [gr, gr, gr]\n",
    "\n",
    "     plt.imshow(gris, cmap='gray')\n",
    "     plt.show()\n",
    "     return gris"
   ]
  },
  {
   "cell_type": "code",
   "execution_count": 8,
   "metadata": {},
   "outputs": [
    {
     "ename": "NameError",
     "evalue": "name 'cv2' is not defined",
     "output_type": "error",
     "traceback": [
      "\u001b[1;31m---------------------------------------------------------------------------\u001b[0m",
      "\u001b[1;31mNameError\u001b[0m                                 Traceback (most recent call last)",
      "\u001b[1;32md:\\Descargas 2\\IPN\\5to\\Vision Artificial\\practicas\\Pancitos\\Practica 1.2\\practica1-2.ipynb Cell 7\u001b[0m line \u001b[0;36m2\n\u001b[0;32m      <a href='vscode-notebook-cell:/d%3A/Descargas%202/IPN/5to/Vision%20Artificial/practicas/Pancitos/Practica%201.2/practica1-2.ipynb#W6sZmlsZQ%3D%3D?line=0'>1</a>\u001b[0m \u001b[39m# aqui se mandan a llamar las funciones creadas\u001b[39;00m\n\u001b[1;32m----> <a href='vscode-notebook-cell:/d%3A/Descargas%202/IPN/5to/Vision%20Artificial/practicas/Pancitos/Practica%201.2/practica1-2.ipynb#W6sZmlsZQ%3D%3D?line=1'>2</a>\u001b[0m img \u001b[39m=\u001b[39m cargarImagen(\u001b[39m'\u001b[39;49m\u001b[39mpoke.jpg\u001b[39;49m\u001b[39m'\u001b[39;49m)\n\u001b[0;32m      <a href='vscode-notebook-cell:/d%3A/Descargas%202/IPN/5to/Vision%20Artificial/practicas/Pancitos/Practica%201.2/practica1-2.ipynb#W6sZmlsZQ%3D%3D?line=2'>3</a>\u001b[0m img \u001b[39m=\u001b[39m redimension(img, \u001b[39m240\u001b[39m, \u001b[39m320\u001b[39m)\n",
      "\u001b[1;32md:\\Descargas 2\\IPN\\5to\\Vision Artificial\\practicas\\Pancitos\\Practica 1.2\\practica1-2.ipynb Cell 7\u001b[0m line \u001b[0;36m2\n\u001b[0;32m      <a href='vscode-notebook-cell:/d%3A/Descargas%202/IPN/5to/Vision%20Artificial/practicas/Pancitos/Practica%201.2/practica1-2.ipynb#W6sZmlsZQ%3D%3D?line=0'>1</a>\u001b[0m \u001b[39mdef\u001b[39;00m \u001b[39mcargarImagen\u001b[39m(nombre):\n\u001b[1;32m----> <a href='vscode-notebook-cell:/d%3A/Descargas%202/IPN/5to/Vision%20Artificial/practicas/Pancitos/Practica%201.2/practica1-2.ipynb#W6sZmlsZQ%3D%3D?line=1'>2</a>\u001b[0m      imagen \u001b[39m=\u001b[39m cv2\u001b[39m.\u001b[39mimread(nombre,\u001b[39m1\u001b[39m)\n\u001b[0;32m      <a href='vscode-notebook-cell:/d%3A/Descargas%202/IPN/5to/Vision%20Artificial/practicas/Pancitos/Practica%201.2/practica1-2.ipynb#W6sZmlsZQ%3D%3D?line=2'>3</a>\u001b[0m      imagen \u001b[39m=\u001b[39m cv2\u001b[39m.\u001b[39mcvtColor(imagen, cv2\u001b[39m.\u001b[39mCOLOR_BGR2RGB)\n\u001b[0;32m      <a href='vscode-notebook-cell:/d%3A/Descargas%202/IPN/5to/Vision%20Artificial/practicas/Pancitos/Practica%201.2/practica1-2.ipynb#W6sZmlsZQ%3D%3D?line=3'>4</a>\u001b[0m      plt\u001b[39m.\u001b[39mimshow(imagen)\n",
      "\u001b[1;31mNameError\u001b[0m: name 'cv2' is not defined"
     ]
    }
   ],
   "source": [
    "# aqui se mandan a llamar las funciones creadas\n",
    "img = cargarImagen('poke.jpg')\n",
    "img = redimension(img, 240, 320)"
   ]
  },
  {
   "cell_type": "code",
   "execution_count": 9,
   "metadata": {},
   "outputs": [
    {
     "ename": "NameError",
     "evalue": "name 'img' is not defined",
     "output_type": "error",
     "traceback": [
      "\u001b[1;31m---------------------------------------------------------------------------\u001b[0m",
      "\u001b[1;31mNameError\u001b[0m                                 Traceback (most recent call last)",
      "\u001b[1;32md:\\Descargas 2\\IPN\\5to\\Vision Artificial\\practicas\\Pancitos\\Practica 1.2\\practica1-2.ipynb Cell 8\u001b[0m line \u001b[0;36m2\n\u001b[0;32m      <a href='vscode-notebook-cell:/d%3A/Descargas%202/IPN/5to/Vision%20Artificial/practicas/Pancitos/Practica%201.2/practica1-2.ipynb#X10sZmlsZQ%3D%3D?line=0'>1</a>\u001b[0m \u001b[39m# histograma de la imagen original\u001b[39;00m\n\u001b[1;32m----> <a href='vscode-notebook-cell:/d%3A/Descargas%202/IPN/5to/Vision%20Artificial/practicas/Pancitos/Practica%201.2/practica1-2.ipynb#X10sZmlsZQ%3D%3D?line=1'>2</a>\u001b[0m recorte \u001b[39m=\u001b[39m recortarImagen(img, \u001b[39m80\u001b[39m, \u001b[39m170\u001b[39m, \u001b[39m40\u001b[39m, \u001b[39m80\u001b[39m)\n\u001b[0;32m      <a href='vscode-notebook-cell:/d%3A/Descargas%202/IPN/5to/Vision%20Artificial/practicas/Pancitos/Practica%201.2/practica1-2.ipynb#X10sZmlsZQ%3D%3D?line=2'>3</a>\u001b[0m gris \u001b[39m=\u001b[39m conversionGrises(recorte)\n\u001b[0;32m      <a href='vscode-notebook-cell:/d%3A/Descargas%202/IPN/5to/Vision%20Artificial/practicas/Pancitos/Practica%201.2/practica1-2.ipynb#X10sZmlsZQ%3D%3D?line=3'>4</a>\u001b[0m histograma(gris)\n",
      "\u001b[1;31mNameError\u001b[0m: name 'img' is not defined"
     ]
    }
   ],
   "source": [
    "# histograma de la imagen original\n",
    "recorte = recortarImagen(img, 80, 170, 40, 80)\n",
    "gris = conversionGrises(recorte)\n",
    "histograma(gris)\n",
    "lista=[random.randint(1,90)for _ in range(5)]\n",
    "print(lista)"
   ]
  },
  {
   "cell_type": "code",
   "execution_count": null,
   "metadata": {},
   "outputs": [],
   "source": []
  },
  {
   "cell_type": "code",
   "execution_count": 22,
   "metadata": {},
   "outputs": [],
   "source": []
  },
  {
   "cell_type": "code",
   "execution_count": null,
   "metadata": {},
   "outputs": [],
   "source": []
  },
  {
   "cell_type": "code",
   "execution_count": null,
   "metadata": {},
   "outputs": [],
   "source": []
  }
 ],
 "metadata": {
  "kernelspec": {
   "display_name": "Python 3",
   "language": "python",
   "name": "python3"
  },
  "language_info": {
   "codemirror_mode": {
    "name": "ipython",
    "version": 3
   },
   "file_extension": ".py",
   "mimetype": "text/x-python",
   "name": "python",
   "nbconvert_exporter": "python",
   "pygments_lexer": "ipython3",
   "version": "3.11.2"
  },
  "orig_nbformat": 4
 },
 "nbformat": 4,
 "nbformat_minor": 2
}
